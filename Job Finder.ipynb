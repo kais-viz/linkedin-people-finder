{
 "cells": [
  {
   "cell_type": "markdown",
   "metadata": {},
   "source": [
    "# Internship and Junior data analyst finder\n",
    "\n",
    "To use .ipynb Jupyter notebook, see [How To Set Up Jupyter Notebook with Python 3 on Ubuntu 18.04](https://www.digitalocean.com/community/tutorials/how-to-set-up-jupyter-notebook-with-python-3-on-ubuntu-18-04).\n",
    "\n",
    "\n",
    "## Goal:\n",
    "\n",
    "Search for people that attended ML internships or junior positions around Europe. Filter by company size. The objective is to find a list of companies that hire for such positions. I will also leave a count of repetitive positions in the same company, as it helps decide which companies to put on the watchlist."
   ]
  },
  {
   "cell_type": "markdown",
   "metadata": {},
   "source": [
    "To get people from linkedin, I will use tom quirk's unofficial [linkedin api](https://github.com/tomquirk/linkedin-api)\n",
    "I will also use `dotenv` to load the username/password safely. Create a `.env` file and populate it with environmental variables that you don't want others to see or for cleaner scripts."
   ]
  },
  {
   "cell_type": "code",
   "execution_count": 4,
   "metadata": {},
   "outputs": [
    {
     "name": "stdout",
     "output_type": "stream",
     "text": [
      "The dotenv extension is already loaded. To reload it, use:\n",
      "  %reload_ext dotenv\n"
     ]
    }
   ],
   "source": [
    "import re\n",
    "import os\n",
    "from diskcache import Cache\n",
    "from linkedin_api import Linkedin\n",
    "\n",
    "%load_ext dotenv\n",
    "%dotenv\n",
    "\n",
    "LINKEDIN_USERNAME = os.environ.get(\"LINKEDIN_USERNAME\")\n",
    "LINKEDIN_PASSWORD = os.environ.get(\"LINKEDIN_PASSWORD\")\n",
    "\n",
    "linkedin = Linkedin(LINKEDIN_USERNAME, LINKEDIN_PASSWORD)"
   ]
  },
  {
   "cell_type": "markdown",
   "metadata": {},
   "source": [
    "### Get the search results, NOT cached\n",
    "\n",
    "Regions codes: https://developer.linkedin.com/docs/reference/geography-codes\n",
    "To obtain other codes, see https://i.imgur.com/lcHeXRa.png\n",
    "\n",
    "Translation:\n",
    "    nl:0 means all NL\n",
    "    de:4944 means Berlin Area in Germany\n",
    "\n",
    "See https://github.com/tomquirk/linkedin-api/blob/252add3bda1a9ce1f50fcd5419aac05dbf81498c/linkedin_api/linkedin.py#L113 for more about the params."
   ]
  },
  {
   "cell_type": "code",
   "execution_count": 6,
   "metadata": {},
   "outputs": [
    {
     "name": "stdout",
     "output_type": "stream",
     "text": [
      "[DEBUG] fetching https://www.linkedin.com/voyager/api/search/blended?count=49&filters=List(resultType-%3EPEOPLE,geoRegion-%3Enl%3A0%7Cde%3A0%7Cfr%3A0%7Cgb%3A0%7Ces%3A0%7Cch%3A0%7Cdk%3A0%7Cfi%3A0%7Cpt%3A0%7Cse%3A0%7Cbe%3A0,profileLanguage-%3Een)&origin=GLOBAL_SEARCH_HEADER&q=all&start=0&queryContext=List(spellCorrectionEnabled-%3Etrue,relatedSearchesEnabled-%3Etrue,kcardTypes-%3EPROFILE%7CCOMPANY)&keywords=Junior+data+analyst\n",
      "49 results retrieved\n"
     ]
    }
   ],
   "source": [
    "# raise Exception(\"Comment me out if you want to load new data\")\n",
    "\n",
    "results = linkedin.search_people(\n",
    "    keywords='Junior data analyst',\n",
    "    regions=[\"nl:0\", \"de:0\", \"fr:0\", \"gb:0\", \"es:0\", \"ch:0\", \"dk:0\", \"fi:0\", \"pt:0\", \"se:0\", \"be:0\"],\n",
    "    profile_languages=['en'],\n",
    "    limit=(49 * 1),  # limit is 49 per page, so we get multiples of that\n",
    "#     network_depth=\"O\"\n",
    ")\n",
    "\n",
    "print(f\"{len(results)} results retrieved\")"
   ]
  }
 ],
 "metadata": {
  "kernelspec": {
   "display_name": "Python 3",
   "language": "python",
   "name": "python3"
  },
  "language_info": {
   "codemirror_mode": {
    "name": "ipython",
    "version": 3
   },
   "file_extension": ".py",
   "mimetype": "text/x-python",
   "name": "python",
   "nbconvert_exporter": "python",
   "pygments_lexer": "ipython3",
   "version": "3.7.3"
  },
  "varInspector": {
   "cols": {
    "lenName": 16,
    "lenType": 16,
    "lenVar": 40
   },
   "kernels_config": {
    "python": {
     "delete_cmd_postfix": "",
     "delete_cmd_prefix": "del ",
     "library": "var_list.py",
     "varRefreshCmd": "print(var_dic_list())"
    },
    "r": {
     "delete_cmd_postfix": ") ",
     "delete_cmd_prefix": "rm(",
     "library": "var_list.r",
     "varRefreshCmd": "cat(var_dic_list()) "
    }
   },
   "types_to_exclude": [
    "module",
    "function",
    "builtin_function_or_method",
    "instance",
    "_Feature"
   ],
   "window_display": false
  }
 },
 "nbformat": 4,
 "nbformat_minor": 2
}
